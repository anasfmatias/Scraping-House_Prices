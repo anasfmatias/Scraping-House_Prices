{
 "cells": [
  {
   "cell_type": "markdown",
   "id": "05ca35eb",
   "metadata": {},
   "source": [
    "# 1. RightMove WebScraping and Data Cleaning"
   ]
  },
  {
   "cell_type": "markdown",
   "id": "f20c0e0d",
   "metadata": {},
   "source": [
    "## 1.1 Import packages"
   ]
  },
  {
   "cell_type": "code",
   "execution_count": null,
   "id": "828f1377",
   "metadata": {},
   "outputs": [],
   "source": [
    "#import packages\n",
    "import pandas as pd\n",
    "import numpy as np\n",
    "from tqdm import tqdm\n",
    "import requests\n",
    "from bs4 import BeautifulSoup\n",
    "from urllib.request import urlopen\n",
    "import csv\n",
    "import datetime\n",
    "import time\n",
    "from glob import glob\n",
    "\n",
    "import seaborn as sns\n",
    "import matplotlib.pyplot as plt\n",
    "\n",
    "plt.style.use('ggplot')\n",
    "\n",
    "%config InlineBackend.figure_format = 'retina'\n",
    "%matplotlib inline"
   ]
  },
  {
   "cell_type": "markdown",
   "id": "38af2ded",
   "metadata": {},
   "source": [
    "## 1.2 Gathering the Data from RightMove Website using BeautifulSoup\n",
    "### Note: RightMove doesn't allow web scraping, this was just for proof of concept\n"
   ]
  },
  {
   "cell_type": "code",
   "execution_count": null,
   "id": "4d7244c9",
   "metadata": {},
   "outputs": [],
   "source": [
    "def generate_url(property_type, business, region, bed_number, price_range): \n",
    "    '''Function that takes the property types, type of business if it's sale or rent, region, bed numbers,\n",
    "    and price range. Generates all the different url and parse them'''\n",
    "    results = []\n",
    "    \n",
    "    #iterates through the different regions\n",
    "    for key_reg, value_reg in region.items():\n",
    "        #iterates through the different numbers of beds\n",
    "        for key_bed, value_bed in bed_number.items():\n",
    "            #iterates through the different price ranges\n",
    "            for key_range, value_range in price_range.items():\n",
    "                for page in tqdm(range(0, 1008, 24)):\n",
    "                    try:\n",
    "                        if property_type == 'flat' and business == 'sale':\n",
    "                            url = 'https://www.rightmove.co.uk/property-for-sale/find.html?locationIdentifier='+str(value_reg)+'&maxBedrooms='+str(value_bed[1])+'&minBedrooms='+str(value_bed[0])+'&maxPrice='+str(value_range[1])+'&minPrice='+str(value_range[0])+'&index='+str(page)+'&propertyTypes=flat&primaryDisplayPropertyType=flats&mustHave=&dontShow=sharedOwnership%2Cretirement&furnishTypes=&keywords='\n",
    "                        elif property_type == 'house' and business == 'sale':\n",
    "                            url = 'https://www.rightmove.co.uk/property-for-sale/find.html?locationIdentifier='+str(value_reg)+'&maxBedrooms='+str(value_bed[1])+'&minBedrooms='+str(value_bed[0])+'&maxPrice='+str(value_range[1])+'&minPrice='+str(value_range[0])+'&index='+str(page)+'&propertyTypes=bungalow%2Cdetached%2Csemi-detached%2Cterraced&mustHave=&dontShow=sharedOwnership%2Cretirement&furnishTypes=&keywords='\n",
    "                        elif property_type == 'flat' and business == 'rent':\n",
    "                            url = 'https://www.rightmove.co.uk/property-to-rent/find.html?locationIdentifier='+str(value_reg)+'&maxBedrooms='+str(value_bed[1])+'&minBedrooms='+str(value_bed[0])+'&maxPrice='+str(value_range[1])+'&minPrice='+str(value_range[0])+'&index='+str(page)+'&propertyTypes=flat&primaryDisplayPropertyType=flats&mustHave=&dontShow=houseShare%2Cstudent%2Cretirement&furnishTypes=&keywords='\n",
    "                        elif property_type == 'house' and business == 'sale':\n",
    "                            url = 'https://www.rightmove.co.uk/property-to-rent/find.html?locationIdentifier='+str(value_reg)+'&maxBedrooms='+str(value_bed[1])+'&minBedrooms='+str(value_bed[0])+'&maxPrice='+str(value_range[1])+'&minPrice='+str(value_range[0])+'&index='+str(page)+'&propertyTypes=bungalow%2Cdetached%2Csemi-detached%2Cterraced&mustHave=&dontShow=houseShare%2Cstudent%2Cretirement&furnishTypes=&keywords='\n",
    "                        else:\n",
    "                            print('Error')\n",
    "                            break    \n",
    "                        #print('HTTP GET request to URL: %s' % url, end='')\n",
    "                        response = requests.get(url)\n",
    "                        #print(' | Status code: %s' % response.status_code)\n",
    "                        soup = BeautifulSoup(response.text, 'html.parser')\n",
    "                        \n",
    "                        #avoid to be blocked\n",
    "                        if soup.find('title').text == 'hCaptcha solve page':\n",
    "                             #!.\\nordvpn -c\n",
    "                            time.sleep(5)\n",
    "                            print(soup.find('title').text)\n",
    "                            break\n",
    "                    except:\n",
    "                        print('page not found')\n",
    "                    else:\n",
    "                        soup_res = soup.find_all('div', class_='propertyCard-wrapper')\n",
    "                        results.extend(soup_res)\n",
    "    return results \n",
    "    "
   ]
  },
  {
   "cell_type": "code",
   "execution_count": null,
   "id": "8370c854",
   "metadata": {},
   "outputs": [],
   "source": [
    "#function that extract the content from the \n",
    "def extract_titles_from_result(result):\n",
    "    titles = []\n",
    "    for title in result:\n",
    "        try:\n",
    "            titles.append(title.find('h2', attrs = {'class':'propertyCard-title' }).text.strip())\n",
    "        except:\n",
    "            titles.append(np.nan)\n",
    "    return titles\n",
    "    \n",
    "def extract_address_from_result(result):                    \n",
    "    address = []\n",
    "    for add in result:\n",
    "        try:\n",
    "            address.append(add.find('meta', attrs = {'itemprop': 'streetAddress'})['content'])\n",
    "        except:\n",
    "            address.append(np.nan)\n",
    "    return address\n",
    "            \n",
    "def extract_descriptions_from_result(result):                     \n",
    "    descriptions = []\n",
    "    for descr in result:\n",
    "        try:\n",
    "            descriptions.append(descr.find('span', attrs = {'data-test': 'property-description'}).text)\n",
    "        except:\n",
    "            descriptions.append(np.nan)\n",
    "    return descriptions\n",
    "            \n",
    "def extract_prices_from_result(result, business):                    \n",
    "    prices = []\n",
    "    for price in result:\n",
    "        try:\n",
    "            if business == 'sale':\n",
    "                prices.append(price.find('div', attrs = {'class': 'propertyCard-priceValue'}).text.strip())\n",
    "            elif business == 'rent':\n",
    "                prices.append(price.find('span', attrs = {'class': 'propertyCard-priceValue'}).text.strip())\n",
    "        except:\n",
    "            prices.append(np.nan)\n",
    "    return prices\n",
    "\n",
    "def extract_dates_from_result(result): \n",
    "    dates = []\n",
    "    for date in result:\n",
    "        try:\n",
    "            dates.append(date.find('span', attrs = {'class': 'propertyCard-branchSummary-addedOrReduced'}).text.split(' ')[-1])\n",
    "        except:\n",
    "            dates.append(np.nan) \n",
    "    return dates\n",
    "\n",
    "def extract_sellers_from_result(result):\n",
    "    sellers = []\n",
    "    for seller in result:\n",
    "        try:\n",
    "            sellers.append(seller.find('span', attrs = {'class': 'propertyCard-branchSummary-branchName'}).text.split('by')[-1].strip())\n",
    "        except:\n",
    "            sellers.append(np.nan) \n",
    "    return sellers\n",
    "\n",
    "def extract_images_from_result(result):\n",
    "    images = []\n",
    "    for image in result:\n",
    "        try:\n",
    "            images.append(image.find('img', attrs = {'itemprop': 'image'})['src'])\n",
    "        except:\n",
    "            images.append(np.nan) \n",
    "    return images"
   ]
  },
  {
   "cell_type": "code",
   "execution_count": null,
   "id": "53a7c6a5",
   "metadata": {},
   "outputs": [],
   "source": [
    "def to_df(results, business):\n",
    "    df = pd.DataFrame({'titles':       extract_titles_from_result(results),\n",
    "                        'address':       extract_address_from_result(results),\n",
    "                        'description':   extract_descriptions_from_result(results),\n",
    "                        'prices':        extract_prices_from_result(results, business),\n",
    "                        'dates':         extract_dates_from_result(results),\n",
    "                        'sellers':       extract_sellers_from_result(results),\n",
    "                        'images':        extract_images_from_result(results),\n",
    "                        })\n",
    "    df = df[df['titles']!= 'Property']\n",
    "    return df"
   ]
  },
  {
   "cell_type": "code",
   "execution_count": null,
   "id": "f7c23d35",
   "metadata": {},
   "outputs": [],
   "source": [
    "price_range_sale = {'1':['50000', '350000'], '2': ['350000', '425000'], '3': ['425000','500000'], '4': ['500000', '600000'], '5': ['600000', '700000'], '6': ['700000', '800000'], '7': ['800000', '900000'], '8': ['1000000', '20000000']} \n",
    "price_range_rent = {'1': ['100', '1300'], '2': ['1300', '1500'], '3': ['1500', '1750'], '4': ['1750', '2000'], '5': ['2000', '2500'], '6': ['2500', '3000'], '7': ['3000', '6000'], '8': ['6000', '40000']}\n",
    "bed_numbers = {'0': ['1', '1'], '1': ['2', '2'], '2': ['3', '3'], '3': ['4', '10']}\n",
    "regions = {'Central_London': 'REGION%5E92824', 'East_London': 'REGION%5E92825', 'North_London': 'REGION%5E92826', 'West_London': 'REGION%5E92830', 'South_London': 'REGION%5E92051', 'North_West London': 'REGION%5E92827', 'NorthEast_London': 'REGION%5E93926','SouthWest_London': 'REGION%5E92829', 'SouthEast_London': 'REGION%5E92828'}"
   ]
  },
  {
   "cell_type": "code",
   "execution_count": null,
   "id": "c06b9666",
   "metadata": {},
   "outputs": [],
   "source": [
    "#generate the csv file with information about flats for sale in London\n",
    "flats_sale = generate_url('flat', 'sale', regions, bed_numbers, price_range_rent) \n",
    "df_flats_sale = to_df(flats_sale, 'sale')\n",
    "df_flats_sale.to_csv('df_flats_sale.csv')"
   ]
  },
  {
   "cell_type": "code",
   "execution_count": null,
   "id": "869f881a",
   "metadata": {},
   "outputs": [],
   "source": [
    "#generate the csv file with information about houses for sale in London\n",
    "houses_sale = generate_url('house', 'sale', regions, bed_numbers, price_range_rent) \n",
    "df_houses_sale = to_df(houses_sale, 'sale')\n",
    "df_houses_sale.to_csv('df_houses_sale.csv')"
   ]
  },
  {
   "cell_type": "code",
   "execution_count": null,
   "id": "f7b60dc8",
   "metadata": {},
   "outputs": [],
   "source": [
    "#generate the csv file with information about flats to rent in London\n",
    "flats_rent = generate_url('flat', 'rent', regions, bed_numbers, price_range_rent) \n",
    "df_flats_rent = to_df(flats_rent, 'rent')\n",
    "df_flats_rent.to_csv('df_flats_rent.csv')"
   ]
  },
  {
   "cell_type": "code",
   "execution_count": null,
   "id": "8e761780",
   "metadata": {},
   "outputs": [],
   "source": [
    "#generate the csv file with information about houses to rent in London\n",
    "houses_rent = generate_url('house', 'rent', regions, bed_numbers, price_range_rent) \n",
    "df_houses_rent = to_df(houses_sale, 'rent')\n",
    "df_houses_rent.to_csv('df_houses_rent.csv')"
   ]
  }
 ],
 "metadata": {
  "kernelspec": {
   "display_name": "Python 3",
   "language": "python",
   "name": "python3"
  },
  "language_info": {
   "codemirror_mode": {
    "name": "ipython",
    "version": 3
   },
   "file_extension": ".py",
   "mimetype": "text/x-python",
   "name": "python",
   "nbconvert_exporter": "python",
   "pygments_lexer": "ipython3",
   "version": "3.8.5"
  }
 },
 "nbformat": 4,
 "nbformat_minor": 5
}
